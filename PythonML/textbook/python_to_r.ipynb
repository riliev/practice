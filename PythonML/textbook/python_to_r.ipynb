{
 "cells": [
  {
   "cell_type": "code",
   "execution_count": 1,
   "metadata": {
    "collapsed": true
   },
   "outputs": [],
   "source": [
    "#import packages\n",
    "import numpy as np\n",
    "from scipy import stats\n",
    "import pandas as pd\n",
    "import matplotlib.pyplot as plt"
   ]
  },
  {
   "cell_type": "code",
   "execution_count": 61,
   "metadata": {
    "collapsed": false
   },
   "outputs": [],
   "source": [
    "#vectors\n",
    "x = np.random.uniform(low=0.0, high=1.0, size=100)\n",
    "x[0:4]\n",
    "type(x)\n",
    "len(x)\n",
    "sum(x)\n",
    "np.mean(x)\n",
    "np.std(x)\n",
    "#subseting\n",
    "x = [n for n in x if n >.5]\n",
    "len(x)\n",
    "x_z = stats.zscore(x)\n"
   ]
  },
  {
   "cell_type": "code",
   "execution_count": 65,
   "metadata": {
    "collapsed": false
   },
   "outputs": [
    {
     "data": {
      "text/plain": [
       "a    1\n",
       "c    1\n",
       "d    2\n",
       "3    2\n",
       "dtype: int64"
      ]
     },
     "execution_count": 65,
     "metadata": {},
     "output_type": "execute_result"
    }
   ],
   "source": [
    "#series\n",
    "x_s = pd.Series(x)\n",
    "#x_s\n",
    "x2 = pd.Series([1,1,2,2], index = [\"a\", \"c\", \"d\", \"3\"])\n",
    "x2"
   ]
  },
  {
   "cell_type": "code",
   "execution_count": 72,
   "metadata": {
    "collapsed": false
   },
   "outputs": [
    {
     "name": "stdout",
     "output_type": "stream",
     "text": [
      "['mpg' 'cyl' 'disp' 'hp' 'drat' 'wt' 'qsec' 'vs' 'am' 'gear' 'carb']\n"
     ]
    },
    {
     "data": {
      "text/plain": [
       "(32, 11)"
      ]
     },
     "execution_count": 72,
     "metadata": {},
     "output_type": "execute_result"
    }
   ],
   "source": [
    "#data frames\n",
    "df = pd.read_csv('~/Desktop/mtcars.csv')\n",
    "df \n",
    "type(df)\n",
    "print df.columns.values\n",
    "df.shape\n"
   ]
  },
  {
   "cell_type": "code",
   "execution_count": 74,
   "metadata": {
    "collapsed": false
   },
   "outputs": [
    {
     "data": {
      "text/plain": [
       "mpg      22.80\n",
       "cyl       4.00\n",
       "disp    108.00\n",
       "hp       93.00\n",
       "drat      3.85\n",
       "wt        2.32\n",
       "qsec     18.61\n",
       "vs        1.00\n",
       "am        1.00\n",
       "gear      4.00\n",
       "carb      1.00\n",
       "Name: 2, dtype: float64"
      ]
     },
     "execution_count": 74,
     "metadata": {},
     "output_type": "execute_result"
    }
   ],
   "source": [
    "#df operations\n",
    "df['mpg']\n",
    "df.ix[2]\n",
    "#df[df['cyl'] > 5]\n"
   ]
  },
  {
   "cell_type": "code",
   "execution_count": 78,
   "metadata": {
    "collapsed": false
   },
   "outputs": [
    {
     "data": {
      "text/plain": [
       "(-4.1061269831006886, 0.00028502074393506858)"
      ]
     },
     "execution_count": 78,
     "metadata": {},
     "output_type": "execute_result"
    }
   ],
   "source": [
    "#statistical analyses\n",
    "#correlation\n",
    "np.corrcoef(x = df['mpg'], y = df['cyl'])\n",
    "\n",
    "#t-test\n",
    "x0 = df['mpg'].ix[df['am'] == 0]\n",
    "x1 = df['mpg'].ix[df['am'] == 1]\n",
    "stats.ttest_ind(x0, x1)\n",
    "\n",
    "\n",
    "\n"
   ]
  },
  {
   "cell_type": "code",
   "execution_count": 79,
   "metadata": {
    "collapsed": false,
    "scrolled": true
   },
   "outputs": [
    {
     "data": {
      "text/html": [
       "<table class=\"simpletable\">\n",
       "<caption>OLS Regression Results</caption>\n",
       "<tr>\n",
       "  <th>Dep. Variable:</th>           <td>mpg</td>       <th>  R-squared:         </th> <td>   0.759</td>\n",
       "</tr>\n",
       "<tr>\n",
       "  <th>Model:</th>                   <td>OLS</td>       <th>  Adj. R-squared:    </th> <td>   0.742</td>\n",
       "</tr>\n",
       "<tr>\n",
       "  <th>Method:</th>             <td>Least Squares</td>  <th>  F-statistic:       </th> <td>   45.67</td>\n",
       "</tr>\n",
       "<tr>\n",
       "  <th>Date:</th>             <td>Wed, 07 Dec 2016</td> <th>  Prob (F-statistic):</th> <td>1.09e-09</td>\n",
       "</tr>\n",
       "<tr>\n",
       "  <th>Time:</th>                 <td>11:06:38</td>     <th>  Log-Likelihood:    </th> <td> -79.610</td>\n",
       "</tr>\n",
       "<tr>\n",
       "  <th>No. Observations:</th>      <td>    32</td>      <th>  AIC:               </th> <td>   165.2</td>\n",
       "</tr>\n",
       "<tr>\n",
       "  <th>Df Residuals:</th>          <td>    29</td>      <th>  BIC:               </th> <td>   169.6</td>\n",
       "</tr>\n",
       "<tr>\n",
       "  <th>Df Model:</th>              <td>     2</td>      <th>                     </th>     <td> </td>   \n",
       "</tr>\n",
       "<tr>\n",
       "  <th>Covariance Type:</th>      <td>nonrobust</td>    <th>                     </th>     <td> </td>   \n",
       "</tr>\n",
       "</table>\n",
       "<table class=\"simpletable\">\n",
       "<tr>\n",
       "      <td></td>         <th>coef</th>     <th>std err</th>      <th>t</th>      <th>P>|t|</th>  <th>[0.025</th>    <th>0.975]</th>  \n",
       "</tr>\n",
       "<tr>\n",
       "  <th>Intercept</th> <td>   34.5224</td> <td>    2.603</td> <td>   13.262</td> <td> 0.000</td> <td>   29.198</td> <td>   39.847</td>\n",
       "</tr>\n",
       "<tr>\n",
       "  <th>cyl</th>       <td>   -2.5010</td> <td>    0.361</td> <td>   -6.931</td> <td> 0.000</td> <td>   -3.239</td> <td>   -1.763</td>\n",
       "</tr>\n",
       "<tr>\n",
       "  <th>am</th>        <td>    2.5670</td> <td>    1.291</td> <td>    1.988</td> <td> 0.056</td> <td>   -0.074</td> <td>    5.208</td>\n",
       "</tr>\n",
       "</table>\n",
       "<table class=\"simpletable\">\n",
       "<tr>\n",
       "  <th>Omnibus:</th>       <td> 0.873</td> <th>  Durbin-Watson:     </th> <td>   1.558</td>\n",
       "</tr>\n",
       "<tr>\n",
       "  <th>Prob(Omnibus):</th> <td> 0.646</td> <th>  Jarque-Bera (JB):  </th> <td>   0.795</td>\n",
       "</tr>\n",
       "<tr>\n",
       "  <th>Skew:</th>          <td> 0.354</td> <th>  Prob(JB):          </th> <td>   0.672</td>\n",
       "</tr>\n",
       "<tr>\n",
       "  <th>Kurtosis:</th>      <td> 2.690</td> <th>  Cond. No.          </th> <td>    33.4</td>\n",
       "</tr>\n",
       "</table>"
      ],
      "text/plain": [
       "<class 'statsmodels.iolib.summary.Summary'>\n",
       "\"\"\"\n",
       "                            OLS Regression Results                            \n",
       "==============================================================================\n",
       "Dep. Variable:                    mpg   R-squared:                       0.759\n",
       "Model:                            OLS   Adj. R-squared:                  0.742\n",
       "Method:                 Least Squares   F-statistic:                     45.67\n",
       "Date:                Wed, 07 Dec 2016   Prob (F-statistic):           1.09e-09\n",
       "Time:                        11:06:38   Log-Likelihood:                -79.610\n",
       "No. Observations:                  32   AIC:                             165.2\n",
       "Df Residuals:                      29   BIC:                             169.6\n",
       "Df Model:                           2                                         \n",
       "Covariance Type:            nonrobust                                         \n",
       "==============================================================================\n",
       "                 coef    std err          t      P>|t|      [0.025      0.975]\n",
       "------------------------------------------------------------------------------\n",
       "Intercept     34.5224      2.603     13.262      0.000      29.198      39.847\n",
       "cyl           -2.5010      0.361     -6.931      0.000      -3.239      -1.763\n",
       "am             2.5670      1.291      1.988      0.056      -0.074       5.208\n",
       "==============================================================================\n",
       "Omnibus:                        0.873   Durbin-Watson:                   1.558\n",
       "Prob(Omnibus):                  0.646   Jarque-Bera (JB):                0.795\n",
       "Skew:                           0.354   Prob(JB):                        0.672\n",
       "Kurtosis:                       2.690   Cond. No.                         33.4\n",
       "==============================================================================\n",
       "\n",
       "Warnings:\n",
       "[1] Standard Errors assume that the covariance matrix of the errors is correctly specified.\n",
       "\"\"\""
      ]
     },
     "execution_count": 79,
     "metadata": {},
     "output_type": "execute_result"
    }
   ],
   "source": [
    "#linear regression\n",
    "import statsmodels as sm\n",
    "import statsmodels.formula.api as sm\n",
    "#from pandas.stats.api import ols\n",
    "result = sm.ols(formula=\"mpg ~ cyl + am\", data=df).fit()\n",
    "result.summary()"
   ]
  },
  {
   "cell_type": "code",
   "execution_count": 80,
   "metadata": {
    "collapsed": false,
    "scrolled": true
   },
   "outputs": [
    {
     "name": "stdout",
     "output_type": "stream",
     "text": [
      "Using matplotlib backend: TkAgg\n"
     ]
    },
    {
     "data": {
      "text/plain": [
       "<matplotlib.collections.PathCollection at 0x7f4cb8412e50>"
      ]
     },
     "execution_count": 80,
     "metadata": {},
     "output_type": "execute_result"
    }
   ],
   "source": [
    "#graphs\n",
    "import matplotlib.pyplot as plt\n",
    "%matplotlib\n",
    "plt.scatter(df['disp'], df['hp'])\n",
    "\n",
    "\n"
   ]
  },
  {
   "cell_type": "code",
   "execution_count": 81,
   "metadata": {
    "collapsed": false
   },
   "outputs": [
    {
     "data": {
      "text/plain": [
       "<matplotlib.axes._subplots.AxesSubplot at 0x7f4cb81e9450>"
      ]
     },
     "execution_count": 81,
     "metadata": {},
     "output_type": "execute_result"
    }
   ],
   "source": [
    "#bar graph\n",
    "df1 = df[['mpg', 'am', 'cyl']]\n",
    "df1_grouped = df1.groupby(['cyl', 'am'])\n",
    "df1_mean = df1_grouped['mpg'].aggregate(np.mean).unstack()\n",
    "df1_mean.plot(kind = 'bar')"
   ]
  }
 ],
 "metadata": {
  "kernelspec": {
   "display_name": "Python 2",
   "language": "python",
   "name": "python2"
  },
  "language_info": {
   "codemirror_mode": {
    "name": "ipython",
    "version": 2
   },
   "file_extension": ".py",
   "mimetype": "text/x-python",
   "name": "python",
   "nbconvert_exporter": "python",
   "pygments_lexer": "ipython2",
   "version": "2.7.6"
  }
 },
 "nbformat": 4,
 "nbformat_minor": 1
}
