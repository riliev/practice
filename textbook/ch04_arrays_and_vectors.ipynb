{
 "cells": [
  {
   "cell_type": "code",
   "execution_count": 1,
   "metadata": {
    "collapsed": true
   },
   "outputs": [],
   "source": [
    "#configuration\n",
    "import numpy as np"
   ]
  },
  {
   "cell_type": "code",
   "execution_count": 20,
   "metadata": {
    "collapsed": false
   },
   "outputs": [
    {
     "name": "stdout",
     "output_type": "stream",
     "text": [
      "[[6, 7, 8, 9], [6, 7, 8, 9]]\n",
      "[[6, 7, 8, 9], [6, 7, 8, 9], [6, 7, 8, 9], [6, 7, 8, 9], [6, 7, 8, 9], [6, 7, 8, 9]]\n"
     ]
    },
    {
     "data": {
      "text/plain": [
       "(2, 4)"
      ]
     },
     "execution_count": 20,
     "metadata": {},
     "output_type": "execute_result"
    }
   ],
   "source": [
    "data = [6,7,8,9]\n",
    "data2 = [[1,2],[3,4]]\n",
    "data3 = [data,data]\n",
    "print data3\n",
    "print data3*3\n",
    "arr1 = np.array(data3)\n",
    "print arr1.dtype\n",
    "print arr1.shape"
   ]
  },
  {
   "cell_type": "code",
   "execution_count": 40,
   "metadata": {
    "collapsed": false
   },
   "outputs": [
    {
     "name": "stdout",
     "output_type": "stream",
     "text": [
      "[ 1.  2.  3.]\n",
      "[0 1 2 3 4 5 6 7 8 9]\n",
      "['0' '1' '2' '3' '4' '5' '6' '7' '8' '9']\n",
      "[        inf  1.          0.5         0.33333333  0.25        0.2\n",
      "  0.16666667  0.14285714  0.125       0.11111111]\n"
     ]
    },
    {
     "name": "stderr",
     "output_type": "stream",
     "text": [
      "/usr/local/lib/python2.7/dist-packages/ipykernel/__main__.py:10: RuntimeWarning: divide by zero encountered in divide\n"
     ]
    }
   ],
   "source": [
    "np.zeros(10)\n",
    "np.zeros((3,6))\n",
    "np.empty((2,4)) #returns garbage\n",
    "arr1 = np.array([1,2,3], dtype = np.float64)\n",
    "print arr1\n",
    "int_array = np.arange(10)\n",
    "print int_array\n",
    "str_array = np.array(int_array, dtype = np.string_)\n",
    "print str_array\n",
    "print 1.0/int_array"
   ]
  },
  {
   "cell_type": "code",
   "execution_count": 57,
   "metadata": {
    "collapsed": false
   },
   "outputs": [
    {
     "data": {
      "text/plain": [
       "array([[ 0.33899792,  0.39648871],\n",
       "       [ 0.35258478,  0.48669018],\n",
       "       [ 0.28004743,  0.00705501],\n",
       "       [ 0.6076632 ,  0.55922154],\n",
       "       [ 0.89396804,  0.92257897],\n",
       "       [ 0.04836557,  0.94792387]])"
      ]
     },
     "execution_count": 57,
     "metadata": {},
     "output_type": "execute_result"
    }
   ],
   "source": [
    "data = np.random.rand(7,4)\n",
    "values = np.array(range(7))\n",
    "data[values == 2,2]\n",
    "data[ ~(values == 2), 2:]\n"
   ]
  }
 ],
 "metadata": {
  "kernelspec": {
   "display_name": "Python 2",
   "language": "python",
   "name": "python2"
  },
  "language_info": {
   "codemirror_mode": {
    "name": "ipython",
    "version": 2
   },
   "file_extension": ".py",
   "mimetype": "text/x-python",
   "name": "python",
   "nbconvert_exporter": "python",
   "pygments_lexer": "ipython2",
   "version": "2.7.6"
  }
 },
 "nbformat": 4,
 "nbformat_minor": 1
}
